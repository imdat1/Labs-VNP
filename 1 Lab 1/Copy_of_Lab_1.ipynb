{
  "nbformat": 4,
  "nbformat_minor": 0,
  "metadata": {
    "colab": {
      "provenance": []
    },
    "kernelspec": {
      "name": "python3",
      "display_name": "Python 3"
    }
  },
  "cells": [
    {
      "cell_type": "markdown",
      "metadata": {
        "id": "W8lsmxJhkvt4"
      },
      "source": [
        "#<font color = 'Orange'>Scraping page</font>\n",
        "You need to scrape the phones with their price from: https://mobelix.com.mk/mk/mobilni-telefoni\n",
        "\n",
        "The informations you need to extract are:\n",
        "\n",
        "\n",
        "*   Phone brand: html tag (\\<h5 class=\"mb-0\">\\)\n",
        "*   Phone type: html tag (\\<h3 class=\"h5 font-weight-normal\">\\)\n",
        "*   Phone price: html tag (\\<p class=\"h5 price\">\\)\n",
        "\n"
      ]
    },
    {
      "cell_type": "markdown",
      "metadata": {
        "id": "E9QJzcuLme9J"
      },
      "source": [
        "# <font color='Orange'>Requirements specified for Web Scraping</font> (0.1 POINTS)\n"
      ]
    },
    {
      "cell_type": "markdown",
      "metadata": {
        "id": "nUtpcRz3mq7p"
      },
      "source": [
        "Import all libraries and modules that you are going to use."
      ]
    },
    {
      "cell_type": "code",
      "metadata": {
        "id": "-llJJ2vVmmgU"
      },
      "source": [
        "#start here\n",
        "#shift+enter in this box will run the code that's here and open a new code-box below\n",
        "#import ....\n",
        "import numpy as np\n",
        "import pandas as pd\n",
        "import requests\n",
        "import warnings\n",
        "from bs4 import BeautifulSoup\n",
        "from IPython.display import HTML\n",
        "%matplotlib inline\n",
        "import matplotlib.pyplot as plt\n",
        "\n",
        "requests.packages.urllib3.disable_warnings()\n",
        "warnings.filterwarnings(\"ignore\")"
      ],
      "execution_count": 433,
      "outputs": []
    },
    {
      "cell_type": "code",
      "source": [],
      "metadata": {
        "id": "u0XyaRjjdNIW"
      },
      "execution_count": 433,
      "outputs": []
    },
    {
      "cell_type": "markdown",
      "metadata": {
        "id": "fJ0KNuMwm6F3"
      },
      "source": [
        "# <font color = 'Orange'> Start the scraping by sending HTTP request</font> (0.3 POINTS)\n"
      ]
    },
    {
      "cell_type": "markdown",
      "metadata": {
        "id": "4JZurHezsLpU"
      },
      "source": [
        " **Fetch a website's content - send request**"
      ]
    },
    {
      "cell_type": "code",
      "metadata": {
        "id": "Yj4JPQ6proYR"
      },
      "source": [
        "#add your code\n",
        "mobelix_url = 'https://mobelix.com.mk/mk/mobilni-telefoni'\n",
        "mobelix_request = requests.get(mobelix_url)"
      ],
      "execution_count": 434,
      "outputs": []
    },
    {
      "cell_type": "markdown",
      "metadata": {
        "id": "Tq_F8bt4rmb9"
      },
      "source": [
        "**Get the response-status code and see:**\n",
        "<li>If the code starts with a 2, it means the request was successful.\n",
        "\n"
      ]
    },
    {
      "cell_type": "code",
      "metadata": {
        "id": "YXHM_22dtLyq",
        "colab": {
          "base_uri": "https://localhost:8080/"
        },
        "outputId": "252996d3-80f2-44a9-a02c-3800ee0af865"
      },
      "source": [
        "#add your code\n",
        "mobelix_request"
      ],
      "execution_count": 435,
      "outputs": [
        {
          "output_type": "execute_result",
          "data": {
            "text/plain": [
              "<Response [200]>"
            ]
          },
          "metadata": {},
          "execution_count": 435
        }
      ]
    },
    {
      "cell_type": "markdown",
      "metadata": {
        "id": "os6BnZqJuZpU"
      },
      "source": [
        "# <font color = 'orange'>Parse the HTML with BeautifulSoup</font> (0.3 POINTS)"
      ]
    },
    {
      "cell_type": "markdown",
      "metadata": {
        "id": "E7lcI0U3ua9r"
      },
      "source": [
        "Beautiful Soup is a Python library for pulling data out of HTML and XML files. It works with your favorite parser to provide idiomatic ways of navigating, searching, and modifying the parse tree. It commonly saves programmers hours or days of work.\n"
      ]
    },
    {
      "cell_type": "markdown",
      "metadata": {
        "id": "TA4fBO6mvBDq"
      },
      "source": [
        "**Parse using BeautifulSoap**\n",
        "\n",
        "\n"
      ]
    },
    {
      "cell_type": "code",
      "metadata": {
        "id": "qFKmBAsguaLg"
      },
      "source": [
        "#add your code\n",
        "mobelix_html_text = mobelix_request.text\n",
        "mobelix_soup = BeautifulSoup(mobelix_html_text,'html.parser')"
      ],
      "execution_count": 436,
      "outputs": []
    },
    {
      "cell_type": "markdown",
      "metadata": {
        "id": "JWe6_oBCu0LL"
      },
      "source": [
        "**Print the HTML code that you get**"
      ]
    },
    {
      "cell_type": "code",
      "metadata": {
        "id": "JN5BWb8Lu4_y",
        "colab": {
          "base_uri": "https://localhost:8080/"
        },
        "outputId": "0d93e6ab-1eea-4ee8-83d9-0c83386bb19e"
      },
      "source": [
        "#add your code\n",
        "mobelix_soup"
      ],
      "execution_count": 437,
      "outputs": [
        {
          "output_type": "execute_result",
          "data": {
            "text/plain": [
              "<!DOCTYPE html>\n",
              "\n",
              "<html lang=\"en\">\n",
              "<head>\n",
              "<!-- Required meta tags -->\n",
              "<meta charset=\"utf-8\"/>\n",
              "<title>Мобилни телефони | Mobelix Premium Mobilara</title>\n",
              "<meta content=\"width=device-width, initial-scale=1, shrink-to-fit=no\" name=\"viewport\"/>\n",
              "<meta content=\"Мобилни телефони | Mobelix Премиум Мобилара\" name=\"title\"/>\n",
              "<meta content=\"Mobile Store I Service | Mobelix Premium Mobilara Skopje нуди најголем избор на премиум додатоци за мобилни телефони: маски за мобилни телефони, диспеј, полначи, полначи за кола, бежични полначи, power bank, bluetooth слушалки, usb кабли, фолии и стакла за дисплеј и др.\" name=\"description\"/>\n",
              "<meta content=\"mobilara, mobilara skopje, mobilni dodatoci, мобилни додатоци, полначи, бежични полначи, power bank, Bluetooth slusalki, maski za telefoni\" name=\"keywords\"/>\n",
              "<meta content=\"Mobelix Премиум Мобилара\" property=\"og:site_name\">\n",
              "<meta content=\"http://mobelix.com.mk/mk/mobilni-telefoni\" property=\"og:url\">\n",
              "<meta content=\"Мобилни телефони | Mobelix Премиум Мобилара\" property=\"og:title\">\n",
              "<meta content=\"article\" property=\"og:type\">\n",
              "<meta content=\"http://mobelix.com.mkhttps://mobelix.com.mk/storage/app/media/about-us/about-us.jpg\" property=\"og:image\">\n",
              "<meta content=\"Мобеликс Премиум мобилара е опремена со најсовремени машини и посебно обучен кадар кој ќе ви помогне во најкраток можен рок да ги решите сите проблеми поврзани со вашиот мобилен телефон. Секогаш во чекор со новитетите во својата област, нудејќи производи и услуги достапни за секого.\" property=\"og:description\"/>\n",
              "<meta content=\"summary\" name=\"twitter:card\"/>\n",
              "<meta content=\"Мобилни телефони | Mobelix Премиум Мобилара\" name=\"twitter:title\"/>\n",
              "<meta content=\"Мобеликс Премиум мобилара е опремена со најсовремени машини и посебно обучен кадар кој ќе ви помогне во најкраток можен рок да ги решите сите проблеми поврзани со вашиот мобилен телефон. Секогаш во чекор со новитетите во својата област, нудејќи производи и услуги достапни за секого.\" name=\"twitter:description\"/>\n",
              "<meta content=\"http://mobelix.com.mkhttps://mobelix.com.mk/storage/app/media/about-us/about-us.jpg\" name=\"twitter:image\"/>\n",
              "<link href=\"http://mobelix.com.mk/mk/mobilni-telefoni\" rel=\"canonical\"/>\n",
              "<link href=\"https://mobelix.com.mk/themes/mobelix/assets/img/favicon.png\" rel=\"icon\" type=\"image/x-icon\"/>\n",
              "<!-- Bootstrap CSS -->\n",
              "<link crossorigin=\"anonymous\" href=\"https://stackpath.bootstrapcdn.com/bootstrap/4.1.3/css/bootstrap.min.css\" integrity=\"sha384-MCw98/SFnGE8fJT3GXwEOngsV7Zt27NXFoaoApmYm81iuXoPkFOJwJ8ERdknLPMO\" rel=\"stylesheet\"/>\n",
              "<link href=\"https://mobelix.com.mk/themes/mobelix/assets/css/line-awesome.css\" rel=\"stylesheet\" type=\"text/css\"/>\n",
              "<link href=\"https://mobelix.com.mk/themes/mobelix/assets/vendor/slick/slick.css\" rel=\"stylesheet\" type=\"text/css\"/>\n",
              "<link href=\"https://mobelix.com.mk/themes/mobelix/assets/vendor/slick/slick-theme.css\" rel=\"stylesheet\" type=\"text/css\"/>\n",
              "<link href=\"https://mobelix.com.mk/themes/mobelix/assets/css/style.css\" rel=\"stylesheet\" type=\"text/css\"/>\n",
              "<link href=\"https://mobelix.com.mk/themes/mobelix/assets/css/custom.css\" rel=\"stylesheet\" type=\"text/css\"/>\n",
              "<link href=\"https://mobelix.com.mk/themes/mobelix/assets/css/animate.css\" rel=\"stylesheet\" type=\"text/css\"/>\n",
              "<link href=\"https://fonts.googleapis.com/css?family=Montserrat:400,500,600,800,900&amp;subset=cyrillic-ext\" rel=\"stylesheet\"/>\n",
              "<link href=\"https://mobelix.com.mk/themes/mobelix/assets/vendor/fontawesome/css/font-awesome.min.css\" rel=\"stylesheet\" type=\"text/css\"/>\n",
              "<style>\n",
              "        .hidden-title {\n",
              "            position: absolute;\n",
              "            top: 0;\n",
              "            left: 0;\n",
              "            width: 0;\n",
              "            height: 0;\n",
              "            overflow: hidden;\n",
              "            visibility: hidden;\n",
              "            opacity: 0;\n",
              "        }\n",
              "            </style>\n",
              "<!-- Facebook Pixel Code -->\n",
              "<script>\n",
              "  !function(f,b,e,v,n,t,s)\n",
              "  {if(f.fbq)return;n=f.fbq=function(){n.callMethod?\n",
              "  n.callMethod.apply(n,arguments):n.queue.push(arguments)};\n",
              "  if(!f._fbq)f._fbq=n;n.push=n;n.loaded=!0;n.version='2.0';\n",
              "  n.queue=[];t=b.createElement(e);t.async=!0;\n",
              "  t.src=v;s=b.getElementsByTagName(e)[0];\n",
              "  s.parentNode.insertBefore(t,s)}(window, document,'script',\n",
              "  'https://connect.facebook.net/en_US/fbevents.js');\n",
              "    fbq('init', '516928212519211');\n",
              "    fbq('init', '357243778292278');\n",
              "    fbq('init', '298720778249916');\n",
              "    fbq('init', '533032878796577');\n",
              "\n",
              "  fbq('track', 'PageView');\n",
              "</script>\n",
              "<noscript><img height=\"1\" src=\"https://www.facebook.com/tr?id=516928212519211&amp;ev=PageView&amp;noscript=1\" style=\"display:none\" width=\"1\"/></noscript>\n",
              "<!-- End Facebook Pixel Code -->\n",
              "<!-- Google Tag Manager -->\n",
              "<script>(function(w,d,s,l,i){w[l]=w[l]||[];w[l].push({'gtm.start':\n",
              "new Date().getTime(),event:'gtm.js'});var f=d.getElementsByTagName(s)[0],\n",
              "j=d.createElement(s),dl=l!='dataLayer'?'&l='+l:'';j.async=true;j.src=\n",
              "'https://www.googletagmanager.com/gtm.js?id='+i+dl;f.parentNode.insertBefore(j,f);\n",
              "})(window,document,'script','dataLayer','GTM-NDN8HG9');</script>\n",
              "<!-- End Google Tag Manager -->\n",
              "</meta></meta></meta></meta></meta></head>\n",
              "<body itemid=\"http://mobelix.com.mk\" itemscope=\"\" itemtype=\"http://schema.org/MobilePhoneStore\">\n",
              "<!-- Google Tag Manager (noscript) -->\n",
              "<noscript><iframe height=\"0\" src=\"https://www.googletagmanager.com/ns.html?id=GTM-NDN8HG9\" style=\"display:none;visibility:hidden\" width=\"0\"></iframe></noscript>\n",
              "<!-- End Google Tag Manager (noscript) -->\n",
              "<div id=\"preloader\"></div>\n",
              "<header class=\"shadow-sm\">\n",
              "<div class=\"top-bar bg-dark text-white\">\n",
              "<div class=\"container\">\n",
              "<div class=\"d-flex flex-wrap justify-content-between align-items-center small\">\n",
              "<div class=\"top-bar-info\">\n",
              "<p class=\"mb-0\">Корисничка поддршка: <a class=\"ml-1\" href=\"tel:+38922772272\">02 2772 272</a></p>\n",
              "</div>\n",
              "<div class=\"top-bar-info\">\n",
              "<ul class=\"nav text-white justify-content-center\">\n",
              "<li class=\"nav-item\">\n",
              "<a class=\"nav-link\" href=\"https://mobelix.com.mk/mk/lista-na-zhelbi\">Листа на желби</a>\n",
              "</li>\n",
              "<li class=\"nav-item\">\n",
              "<a class=\"nav-link\" href=\"https://mobelix.com.mk/mk/kontakt\">Испрати порака</a>\n",
              "</li>\n",
              "</ul>\n",
              "</div>\n",
              "</div>\n",
              "</div>\n",
              "</div>\n",
              "<nav class=\"navbar navbar-expand-lg navbar-light bg-white px-0 py-2 py-lg-3\">\n",
              "<div class=\"container align-items-center px-3\">\n",
              "<a class=\"navbar-brand order-0\" href=\"https://mobelix.com.mk/mk\"><img src=\"https://mobelix.com.mk/themes/mobelix/assets/img/logo.svg\"/></a>\n",
              "<div class=\"collapse search-collapse order-3 order-lg-2 input-search\" id=\"collapseSearch\">\n",
              "<form action=\"https://mobelix.com.mk/mk/prebaruvanje\" class=\"my-3 my-lg-0 with-border\" method=\"GET\">\n",
              "<div class=\"input-group flex-nowrap\">\n",
              "<div class=\"input-group-prepend d-flex bg-gold-gradient-wrapper border-radius-left\">\n",
              "<select class=\"custom-select hover-yellow pr-5 pl-4 w-auto bg-light h-auto d-none d-sm-block\" id=\"inputGroupSelect01\" name=\"category\">\n",
              "<option value=\"mobilni-uredi\">Мобилни телефони</option>\n",
              "<option value=\"mobilni-dodatoci\">Мобилни додатоци</option>\n",
              "</select>\n",
              "</div>\n",
              "<input class=\"form-control w-50 py-4 pl-0 ml-4 pr-0\" name=\"product\" placeholder=\"Пребарајте по производи\" type=\"text\" value=\"\"/>\n",
              "<div class=\"input-group-append bg-gold-gradient-wrapper border-radius-right\">\n",
              "<button class=\"btn btn-default bg-light hover-yellow btn-search-mobelix\"><i class=\"la la-search\"></i></button>\n",
              "</div>\n",
              "</div>\n",
              "</form>\n",
              "</div>\n",
              "<div class=\"burger-wrapper d-flex align-items-center order-2 order-lg-3\">\n",
              "<div class=\"mr-3 mr-lg-0 ml-lg-4\" id=\"wishlist\">\n",
              "<div class=\"d-flex\">\n",
              "<a class=\"d-flex align-items-center wishlist-wrapper\" href=\"https://mobelix.com.mk/mk/lista-na-zhelbi\">\n",
              "<div class=\"icon-wishlist\">\n",
              "<i class=\"la la-heart-o\"></i>\n",
              "</div>\n",
              "<div class=\"small ml-2 d-none d-lg-block\">\n",
              "<p class=\"mb-0\">Листа на желби</p>\n",
              "</div>\n",
              "</a>\n",
              "<span aria-controls=\"collapseSearch\" aria-expanded=\"false\" class=\"search-toggler ml-lg-3 d-lg-none\" data-target=\"#collapseSearch\" data-toggle=\"collapse\"><i class=\"la la-search\"></i></span>\n",
              "</div>\n",
              "</div>\n",
              "<button aria-controls=\"navbarSupportedContent\" aria-expanded=\"false\" aria-label=\"Toggle navigation\" class=\"navbar-toggler d-lg-none border-0\" data-target=\"#navbarSupportedContent\" data-toggle=\"collapse\" type=\"button\">\n",
              "<span class=\"navbar-toggler-icon\"></span>\n",
              "</button>\n",
              "</div>\n",
              "</div>\n",
              "</nav>\n",
              "<div class=\"container px-3 d-none d-lg-block\">\n",
              "<hr class=\"my-0\"/>\n",
              "</div>\n",
              "<nav class=\"navbar navbar-expand-lg navbar-light bg-white px-0 py-0 py-lg-2\">\n",
              "<div class=\"container px-3\">\n",
              "<div class=\"collapse navbar-collapse navbar-collapsible\" id=\"navbarSupportedContent\">\n",
              "<ul class=\"navbar-nav w-100 py-2 py-md-0\">\n",
              "<li class=\"nav-item\">\n",
              "<a class=\"nav-link text-capitalize pl-0\" href=\"https://mobelix.com.mk/mk\">Почетна</a>\n",
              "</li>\n",
              "<li class=\"nav-item dropdown\">\n",
              "<div aria-expanded=\"false\" aria-haspopup=\"true\" class=\"nav-link dropdown-toggle\" data-toggle=\"dropdown\" id=\"navbarDropdown\" role=\"button\">\n",
              "\n",
              "              Производи\n",
              "\n",
              "            </div>\n",
              "<div class=\"dropdown-menu mt-3 mt-lg-0\">\n",
              "<a class=\"nav-link text-capitalize dropdown-item\" href=\"https://mobelix.com.mk/mk/mobilni-telefoni\">Мобилни телефони</a>\n",
              "<a class=\"nav-link text-capitalize dropdown-item\" href=\"https://mobelix.com.mk/mk/smart-chasovnici\">Smart часовници</a>\n",
              "<a class=\"nav-link text-capitalize dropdown-item\" href=\"https://mobelix.com.mk/mk/mobilni-dodatoci\">Мобилни додатоци</a>\n",
              "<a class=\"nav-link text-capitalize dropdown-item\" href=\"https://mobelix.com.mk/mk/eksponati\">Експонати</a>\n",
              "</div>\n",
              "</li>\n",
              "<li class=\"nav-item border-right pr-3\">\n",
              "<a class=\"nav-link text-capitalize\" href=\"https://mobelix.com.mk/mk/servis\">Сервис</a>\n",
              "</li>\n",
              "<li class=\"nav-item\">\n",
              "<a class=\"nav-link text-capitalize\" href=\"https://mobelix.com.mk/mk/premium-mobilara\">Премиум Мобилара</a>\n",
              "</li>\n",
              "<li class=\"nav-item ml-lg-auto\">\n",
              "<a class=\"nav-link text-capitalize\" href=\"https://mobelix.com.mk/mk/chesto-postavuvani-prashanja\">ЧПП</a>\n",
              "</li>\n",
              "<li class=\"nav-item\">\n",
              "<a class=\"nav-link text-capitalize\" href=\"https://mobelix.com.mk/mk/novosti\">Новости</a>\n",
              "</li>\n",
              "<li class=\"nav-item\">\n",
              "<a class=\"nav-link text-capitalize pr-lg-0\" href=\"https://mobelix.com.mk/mk/kontakt\">Контакт</a>\n",
              "</li>\n",
              "</ul>\n",
              "</div>\n",
              "</div>\n",
              "</nav>\n",
              "</header> <section class=\"category-section pt-4 pt-xl-5 pb-3\">\n",
              "<div class=\"container\">\n",
              "<h1 class=\"h2\">Мобилни телефони</h1>\n",
              "<nav aria-label=\"breadcrumb\">\n",
              "<ol class=\"breadcrumb bg-white p-0 mb-2\">\n",
              "<li class=\"breadcrumb-item\"><a href=\"https://mobelix.com.mk/mk\">Дома</a></li>\n",
              "<li aria-current=\"page\" class=\"breadcrumb-item active\">Мобилни телефони</li>\n",
              "</ol>\n",
              "</nav>\n",
              "</div>\n",
              "</section>\n",
              "<section class=\"bg-light pb-4 pb-xl-5 pt-3\">\n",
              "<div class=\"container\">\n",
              "<div class=\"row\">\n",
              "<div class=\"col-lg-3\">\n",
              "<div class=\"block mt-3 d-none d-lg-block\">\n",
              "<h5 class=\"h4 pb-2 categories-title\">Производи</h5>\n",
              "<ul class=\"nav flex-column categories-nav\">\n",
              "<li class=\"nav-item\">\n",
              "<a class=\"nav-link little-heading active\" href=\"https://mobelix.com.mk/mk/mobilni-telefoni\">Мобилни телефони</a>\n",
              "<button aria-controls=\"mobileList\" aria-expanded=\"true\" class=\"category-toggle\" data-target=\"#mobileList\" data-toggle=\"collapse\" type=\"button\">\n",
              "</button>\n",
              "<div class=\"collapse show\" id=\"mobileList\">\n",
              "<ul class=\"nav flex-column categories-nav\">\n",
              "<a class=\"nav-link pl-3 line-left\" href=\"https://mobelix.com.mk/mk/brendovi/apple\">\n",
              "<h2 class=\"h6 mb-0 brand-menu\">Apple</h2> </a>\n",
              "<a class=\"nav-link pl-3 line-left\" href=\"https://mobelix.com.mk/mk/brendovi/samsung\">\n",
              "<h2 class=\"h6 mb-0 brand-menu\">Samsung</h2> </a>\n",
              "<a class=\"nav-link pl-3 line-left\" href=\"https://mobelix.com.mk/mk/brendovi/huawei\">\n",
              "<h2 class=\"h6 mb-0 brand-menu\">Huawei</h2> </a>\n",
              "<a class=\"nav-link pl-3 line-left\" href=\"https://mobelix.com.mk/mk/brendovi/xiaomi\">\n",
              "<h2 class=\"h6 mb-0 brand-menu\">Xiaomi</h2> </a>\n",
              "<a class=\"nav-link pl-3 line-left\" href=\"https://mobelix.com.mk/mk/brendovi/blackberry\">\n",
              "<h2 class=\"h6 mb-0 brand-menu\">Blackberry</h2> </a>\n",
              "<a class=\"nav-link pl-3 line-left\" href=\"https://mobelix.com.mk/mk/brendovi/one-plus\">\n",
              "<h2 class=\"h6 mb-0 brand-menu\">One Plus</h2> </a>\n",
              "<a class=\"nav-link pl-3 line-left\" href=\"https://mobelix.com.mk/mk/brendovi/nokia\">\n",
              "<h2 class=\"h6 mb-0 brand-menu\">Nokia</h2> </a>\n",
              "<a class=\"nav-link pl-3 line-left\" href=\"https://mobelix.com.mk/mk/brendovi/google\">\n",
              "<h2 class=\"h6 mb-0 brand-menu\">Google</h2> </a>\n",
              "<a class=\"nav-link pl-3 line-left\" href=\"https://mobelix.com.mk/mk/brendovi/asus\">\n",
              "<h2 class=\"h6 mb-0 brand-menu\">ASUS</h2> </a>\n",
              "<a class=\"nav-link pl-3 line-left\" href=\"https://mobelix.com.mk/mk/brendovi/zte\">\n",
              "<h2 class=\"h6 mb-0 brand-menu\">ZTE</h2> </a>\n",
              "</ul>\n",
              "</div>\n",
              "</li>\n",
              "<li class=\"nav-item\">\n",
              "<a class=\"nav-link little-heading\" href=\"https://mobelix.com.mk/mk/smart-chasovnici\">Smart часовници</a>\n",
              "<button aria-controls=\"smartWatch\" aria-expanded=\"false\" class=\"category-toggle\" data-target=\"#smartWatch\" data-toggle=\"collapse\" type=\"button\">\n",
              "</button>\n",
              "<div class=\"collapse\" id=\"smartWatch\">\n",
              "<ul class=\"nav flex-column categories-nav\">\n",
              "<a class=\"nav-link pl-3 line-left\" href=\"https://mobelix.com.mk/mk/smartwatch-brend/apple\">Apple</a>\n",
              "<a class=\"nav-link pl-3 line-left\" href=\"https://mobelix.com.mk/mk/smartwatch-brend/samsung\">Samsung</a>\n",
              "<a class=\"nav-link pl-3 line-left\" href=\"https://mobelix.com.mk/mk/smartwatch-brend/huawei\">Huawei</a>\n",
              "<a class=\"nav-link pl-3 line-left\" href=\"https://mobelix.com.mk/mk/smartwatch-brend/xiaomi\">Xiaomi</a>\n",
              "<a class=\"nav-link pl-3 line-left\" href=\"https://mobelix.com.mk/mk/smartwatch-brend/zte\">ZTE</a>\n",
              "</ul>\n",
              "</div>\n",
              "</li>\n",
              "<li class=\"nav-item\">\n",
              "<a class=\"nav-link little-heading\" href=\"https://mobelix.com.mk/mk/mobilni-dodatoci\">Мобилни додатоци</a>\n",
              "<button aria-controls=\"collapseExample\" aria-expanded=\"false\" class=\"category-toggle\" data-target=\"#collapseExample\" data-toggle=\"collapse\" type=\"button\">\n",
              "</button>\n",
              "<div class=\"collapse\" id=\"collapseExample\">\n",
              "<ul class=\"nav flex-column categories-nav\">\n",
              "<a class=\"nav-link pl-3 line-left\" href=\"https://mobelix.com.mk/mk/mobilni-dodatoci/apple-accessories\">\n",
              "                                        Apple Accessories                                    </a>\n",
              "<a class=\"nav-link pl-3 line-left\" href=\"https://mobelix.com.mk/mk/mobilni-dodatoci/audio-converter\">\n",
              "                                        Audio Converter                                    </a>\n",
              "<a class=\"nav-link pl-3 line-left\" href=\"https://mobelix.com.mk/mk/mobilni-dodatoci/aux-audio\">\n",
              "                                        AUX Audio                                    </a>\n",
              "<a class=\"nav-link pl-3 line-left\" href=\"https://mobelix.com.mk/mk/mobilni-dodatoci/back-cover\">\n",
              "                                        Back Cover                                    </a>\n",
              "<a class=\"nav-link pl-3 line-left\" href=\"https://mobelix.com.mk/mk/mobilni-dodatoci/bluetooth-earphones\">\n",
              "                                        Bluetooth Headphones                                    </a>\n",
              "<a class=\"nav-link pl-3 line-left\" href=\"https://mobelix.com.mk/mk/mobilni-dodatoci/car-charger\">\n",
              "                                        Car Charger                                    </a>\n",
              "<a class=\"nav-link pl-3 line-left\" href=\"https://mobelix.com.mk/mk/mobilni-dodatoci/car-mount\">\n",
              "                                        Car Mount                                    </a>\n",
              "<a class=\"nav-link pl-3 line-left\" href=\"https://mobelix.com.mk/mk/mobilni-dodatoci/case\">\n",
              "                                        Case                                    </a>\n",
              "<a class=\"nav-link pl-3 line-left\" href=\"https://mobelix.com.mk/mk/mobilni-dodatoci/charger\">\n",
              "                                        Charger                                    </a>\n",
              "<a class=\"nav-link pl-3 line-left\" href=\"https://mobelix.com.mk/mk/mobilni-dodatoci/display\">\n",
              "                                        Display                                    </a>\n",
              "<a class=\"nav-link pl-3 line-left\" href=\"https://mobelix.com.mk/mk/mobilni-dodatoci/earphones\">\n",
              "                                        Earphones                                    </a>\n",
              "<a class=\"nav-link pl-3 line-left\" href=\"https://mobelix.com.mk/mk/mobilni-dodatoci/gaming\">\n",
              "                                        Gaming                                    </a>\n",
              "<a class=\"nav-link pl-3 line-left\" href=\"https://mobelix.com.mk/mk/mobilni-dodatoci/glass-film\">\n",
              "                                        Glass Film                                    </a>\n",
              "<a class=\"nav-link pl-3 line-left\" href=\"https://mobelix.com.mk/mk/mobilni-dodatoci/headphones\">\n",
              "                                        Headphones                                    </a>\n",
              "<a class=\"nav-link pl-3 line-left\" href=\"https://mobelix.com.mk/mk/mobilni-dodatoci/mp3-bluetooth\">\n",
              "                                        MP3 Bluetooth                                    </a>\n",
              "<a class=\"nav-link pl-3 line-left\" href=\"https://mobelix.com.mk/mk/mobilni-dodatoci/power-bank\">\n",
              "                                        Power Bank                                    </a>\n",
              "<a class=\"nav-link pl-3 line-left\" href=\"https://mobelix.com.mk/mk/mobilni-dodatoci/samsung-accessories\">\n",
              "                                        Samsung Accessories                                    </a>\n",
              "<a class=\"nav-link pl-3 line-left\" href=\"https://mobelix.com.mk/mk/mobilni-dodatoci/usb-cable\">\n",
              "                                        USB Cable                                    </a>\n",
              "<a class=\"nav-link pl-3 line-left\" href=\"https://mobelix.com.mk/mk/mobilni-dodatoci/wireless-charger\">\n",
              "                                        Wireless Charger                                    </a>\n",
              "<a class=\"nav-link pl-3 line-left\" href=\"https://mobelix.com.mk/mk/mobilni-dodatoci/wireless-earphone\">\n",
              "                                        Wireless Earphones                                    </a>\n",
              "<a class=\"nav-link pl-3 line-left\" href=\"https://mobelix.com.mk/mk/mobilni-dodatoci/wireless-headphone\">\n",
              "                                        Wireless Headphones                                    </a>\n",
              "<a class=\"nav-link pl-3 line-left\" href=\"https://mobelix.com.mk/mk/mobilni-dodatoci/wireless-speaker\">\n",
              "                                        Wireless Speaker                                    </a>\n",
              "</ul>\n",
              "</div>\n",
              "</li>\n",
              "<li class=\"nav-item\">\n",
              "<a class=\"nav-link little-heading\" href=\"https://mobelix.com.mk/mk/eksponati\">Експонати</a>\n",
              "<button aria-controls=\"used_phones_list\" aria-expanded=\"false\" class=\"category-toggle\" data-target=\"#used_phones_list\" data-toggle=\"collapse\" type=\"button\">\n",
              "</button>\n",
              "<div class=\"collapse\" id=\"used_phones_list\">\n",
              "<ul class=\"nav flex-column categories-nav\">\n",
              "<a class=\"nav-link pl-3 line-left\" href=\"https://mobelix.com.mk/mk/eksponati/apple\">\n",
              "                                        Apple                                    </a>\n",
              "<a class=\"nav-link pl-3 line-left\" href=\"https://mobelix.com.mk/mk/eksponati/samsung\">\n",
              "                                        Samsung                                    </a>\n",
              "<a class=\"nav-link pl-3 line-left\" href=\"https://mobelix.com.mk/mk/eksponati/huawei\">\n",
              "                                        Huawei                                    </a>\n",
              "<a class=\"nav-link pl-3 line-left\" href=\"https://mobelix.com.mk/mk/eksponati/one-plus\">\n",
              "                                        One Plus                                    </a>\n",
              "<a class=\"nav-link pl-3 line-left\" href=\"https://mobelix.com.mk/mk/eksponati/oppo\">\n",
              "                                        Oppo                                    </a>\n",
              "<a class=\"nav-link pl-3 line-left\" href=\"https://mobelix.com.mk/mk/eksponati/google\">\n",
              "                                        Google                                    </a>\n",
              "</ul>\n",
              "</div>\n",
              "</li>\n",
              "</ul>\n",
              "</div>\n",
              "</div>\n",
              "<div class=\"col-lg-9 product-listing\">\n",
              "<div class=\"d-flex mt-lg-3 justify-content-start justify-content-lg-between align-items-center flex-column flex-md-row\">\n",
              "<div class=\"d-flex flex-wrap flex-sm-nowrap w-100\">\n",
              "<div class=\"select-wrapper bg-gradient mr-3 mb-2 mb-lg-0\">\n",
              "<select class=\"d-lg-none custom-select w-auto white-arrow mb-0\" id=\"brandSelect\">\n",
              "<option value=\"https://mobelix.com.mk/mk/mobilni-telefoni\">Сите Брендови</option>\n",
              "<option value=\"https://mobelix.com.mk/mk/brendovi/apple\">Apple</option>\n",
              "<option value=\"https://mobelix.com.mk/mk/brendovi/samsung\">Samsung</option>\n",
              "<option value=\"https://mobelix.com.mk/mk/brendovi/huawei\">Huawei</option>\n",
              "<option value=\"https://mobelix.com.mk/mk/brendovi/xiaomi\">Xiaomi</option>\n",
              "<option value=\"https://mobelix.com.mk/mk/brendovi/blackberry\">Blackberry</option>\n",
              "<option value=\"https://mobelix.com.mk/mk/brendovi/one-plus\">One Plus</option>\n",
              "<option value=\"https://mobelix.com.mk/mk/brendovi/nokia\">Nokia</option>\n",
              "<option value=\"https://mobelix.com.mk/mk/brendovi/google\">Google</option>\n",
              "<option value=\"https://mobelix.com.mk/mk/brendovi/asus\">ASUS</option>\n",
              "<option value=\"https://mobelix.com.mk/mk/brendovi/zte\">ZTE</option>\n",
              "</select>\n",
              "</div>\n",
              "<form action=\"https://mobelix.com.mk/mk/mobilni-telefoni\" id=\"orderForm\" method=\"GET\">\n",
              "<select class=\"custom-select mr-sm-2 w-auto\" name=\"orderBy\">\n",
              "<option value=\"cheap\">Цена: Ниска &gt; Висока</option>\n",
              "<option value=\"expensive\">Цена: Висока &gt; Ниска</option>\n",
              "<option selected=\"\" value=\"standard\">Стандардно подредување</option>\n",
              "<option value=\"new\">Понови &gt; Постари</option>\n",
              "<option value=\"old\">Постари &gt; Понови</option>\n",
              "</select>\n",
              "</form>\n",
              "</div>\n",
              "<div class=\"w-100\">\n",
              "<p class=\"result mt-3 mt-md-0 mb-0 text-left text-md-right\">Прикажани 1-9 од 191 резултати.</p>\n",
              "</div>\n",
              "</div>\n",
              "<div class=\"row mt-3\">\n",
              "<div class=\"tab-col col-6 col-md-4 my-3 product-wrapper d-flex text-center wow fadeInUp\">\n",
              "<div class=\"p-2 rounded text-dark bg-white d-flex w-100\">\n",
              "<a class=\"d-flex w-100\" href=\"https://mobelix.com.mk/mk/proizvodi/blackberry-porsche-design-p9981\">\n",
              "<div class=\"border border-0 bg-white rounded px-3 pb-3 pt-1 row mx-0 align-items-center\">\n",
              "<div class=\"col-12 product-img-wrapper pt-3\">\n",
              "<img alt=\"Blackberry Porsche Design P9981\" class=\"img-fluid mb-2 mb-xl-3\" src=\"https://mobelix.com.mk/storage/app/uploads/public/605/31a/2d7/thumb_2499_550_800_0_0_crop.jpg\"/>\n",
              "</div>\n",
              "<div class=\"col-12\">\n",
              "<h5 class=\"mb-0\">Blackberry</h5>\n",
              "<h3 class=\"h5 font-weight-normal\">Porsche Design P9981</h3>\n",
              "<p class=\"h5 price\">19,000.00 ден</p>\n",
              "<button class=\"btn btn-outline-primary\">Повеќе</button>\n",
              "</div>\n",
              "</div>\n",
              "</a>\n",
              "</div>\n",
              "</div>\n",
              "<div class=\"tab-col col-6 col-md-4 my-3 product-wrapper d-flex text-center onsale wow fadeInUp\">\n",
              "<div class=\"p-2 rounded text-dark bg-white d-flex w-100\">\n",
              "<a class=\"d-flex w-100\" href=\"https://mobelix.com.mk/mk/proizvodi/samsung-galaxy-a03s-464gb\">\n",
              "<div class=\"border border-0 bg-white rounded px-3 pb-3 pt-1 row mx-0 align-items-center\">\n",
              "<div class=\"col-12 product-img-wrapper pt-3\">\n",
              "<img alt=\"Samsung Galaxy A03s 4/64GB\" class=\"img-fluid mb-2 mb-xl-3\" src=\"https://mobelix.com.mk/storage/app/uploads/public/619/24c/781/thumb_3459_550_800_0_0_crop.png\"/>\n",
              "</div>\n",
              "<div class=\"col-12\">\n",
              "<h5 class=\"mb-0\">Samsung</h5>\n",
              "<h3 class=\"h5 font-weight-normal\">Galaxy A03s 4/64GB</h3>\n",
              "<p class=\"h5 price\"><del class=\"mr-2 small\">9,200.00</del><br/>8,300.00 ден</p>\n",
              "<button class=\"btn btn-outline-primary\">Повеќе</button>\n",
              "</div>\n",
              "</div>\n",
              "<span class=\"badge badge-primary\">-10%</span>\n",
              "</a>\n",
              "</div>\n",
              "</div>\n",
              "<div class=\"tab-col col-6 col-md-4 my-3 product-wrapper d-flex text-center onsale wow fadeInUp\">\n",
              "<div class=\"p-2 rounded text-dark bg-white d-flex w-100\">\n",
              "<a class=\"d-flex w-100\" href=\"https://mobelix.com.mk/mk/proizvodi/samsung-galaxy-a04s-332gb\">\n",
              "<div class=\"border border-0 bg-white rounded px-3 pb-3 pt-1 row mx-0 align-items-center\">\n",
              "<div class=\"col-12 product-img-wrapper pt-3\">\n",
              "<img alt=\"Samsung Galaxy A04s 3/32GB\" class=\"img-fluid mb-2 mb-xl-3\" src=\"https://mobelix.com.mk/storage/app/uploads/public/637/60a/1ed/thumb_4250_550_800_0_0_crop.png\"/>\n",
              "</div>\n",
              "<div class=\"col-12\">\n",
              "<h5 class=\"mb-0\">Samsung</h5>\n",
              "<h3 class=\"h5 font-weight-normal\">Galaxy A04s 3/32GB</h3>\n",
              "<p class=\"h5 price\"><del class=\"mr-2 small\">10,500.00</del><br/>8,300.00 ден</p>\n",
              "<button class=\"btn btn-outline-primary\">Повеќе</button>\n",
              "</div>\n",
              "</div>\n",
              "<span class=\"badge badge-primary\">-21%</span>\n",
              "</a>\n",
              "</div>\n",
              "</div>\n",
              "<div class=\"tab-col col-6 col-md-4 my-3 product-wrapper d-flex text-center onsale wow fadeInUp\">\n",
              "<div class=\"p-2 rounded text-dark bg-white d-flex w-100\">\n",
              "<a class=\"d-flex w-100\" href=\"https://mobelix.com.mk/mk/proizvodi/apple-iphone-14-pro-max-128gb-e-sim\">\n",
              "<div class=\"border border-0 bg-white rounded px-3 pb-3 pt-1 row mx-0 align-items-center\">\n",
              "<div class=\"col-12 product-img-wrapper pt-3\">\n",
              "<img alt=\"Apple iPhone 14 Pro Max 128GB E-SIM\" class=\"img-fluid mb-2 mb-xl-3\" src=\"https://mobelix.com.mk/storage/app/uploads/public/63d/786/1c5/thumb_4399_550_800_0_0_crop.png\"/>\n",
              "</div>\n",
              "<div class=\"col-12\">\n",
              "<h5 class=\"mb-0\">Apple</h5>\n",
              "<h3 class=\"h5 font-weight-normal\">iPhone 14 Pro Max 128GB E-SIM</h3>\n",
              "<p class=\"h5 price\"><del class=\"mr-2 small\">67,600.00</del><br/>61,500.00 ден</p>\n",
              "<button class=\"btn btn-outline-primary\">Повеќе</button>\n",
              "</div>\n",
              "</div>\n",
              "<span class=\"badge badge-primary\">-9%</span>\n",
              "</a>\n",
              "</div>\n",
              "</div>\n",
              "<div class=\"tab-col col-6 col-md-4 my-3 product-wrapper d-flex text-center onsale wow fadeInUp\">\n",
              "<div class=\"p-2 rounded text-dark bg-white d-flex w-100\">\n",
              "<a class=\"d-flex w-100\" href=\"https://mobelix.com.mk/mk/proizvodi/apple-iphone-14-pro-512gb\">\n",
              "<div class=\"border border-0 bg-white rounded px-3 pb-3 pt-1 row mx-0 align-items-center\">\n",
              "<div class=\"col-12 product-img-wrapper pt-3\">\n",
              "<img alt=\"Apple iPhone 14 Pro 512GB\" class=\"img-fluid mb-2 mb-xl-3\" src=\"https://mobelix.com.mk/storage/app/uploads/public/632/83f/b4b/thumb_4093_550_800_0_0_crop.png\"/>\n",
              "</div>\n",
              "<div class=\"col-12\">\n",
              "<h5 class=\"mb-0\">Apple</h5>\n",
              "<h3 class=\"h5 font-weight-normal\">iPhone 14 Pro 512GB</h3>\n",
              "<p class=\"h5 price\"><del class=\"mr-2 small\">94,100.00</del><br/>89,200.00 ден</p>\n",
              "<button class=\"btn btn-outline-primary\">Повеќе</button>\n",
              "</div>\n",
              "</div>\n",
              "<span class=\"badge badge-primary\">-5%</span>\n",
              "</a>\n",
              "</div>\n",
              "</div>\n",
              "<div class=\"tab-col col-6 col-md-4 my-3 product-wrapper d-flex text-center onsale wow fadeInUp\">\n",
              "<div class=\"p-2 rounded text-dark bg-white d-flex w-100\">\n",
              "<a class=\"d-flex w-100\" href=\"https://mobelix.com.mk/mk/proizvodi/apple-iphone-14-pro-max-512gb\">\n",
              "<div class=\"border border-0 bg-white rounded px-3 pb-3 pt-1 row mx-0 align-items-center\">\n",
              "<div class=\"col-12 product-img-wrapper pt-3\">\n",
              "<img alt=\"Apple iPhone 14 Pro Max 512GB\" class=\"img-fluid mb-2 mb-xl-3\" src=\"https://mobelix.com.mk/storage/app/uploads/public/632/840/344/thumb_4104_550_800_0_0_crop.png\"/>\n",
              "</div>\n",
              "<div class=\"col-12\">\n",
              "<h5 class=\"mb-0\">Apple</h5>\n",
              "<h3 class=\"h5 font-weight-normal\">iPhone 14 Pro Max 512GB</h3>\n",
              "<p class=\"h5 price\"><del class=\"mr-2 small\">80,000.00</del><br/>78,100.00 ден</p>\n",
              "<button class=\"btn btn-outline-primary\">Повеќе</button>\n",
              "</div>\n",
              "</div>\n",
              "<span class=\"badge badge-primary\">-2%</span>\n",
              "</a>\n",
              "</div>\n",
              "</div>\n",
              "<div class=\"tab-col col-6 col-md-4 my-3 product-wrapper d-flex text-center onsale wow fadeInUp\">\n",
              "<div class=\"p-2 rounded text-dark bg-white d-flex w-100\">\n",
              "<a class=\"d-flex w-100\" href=\"https://mobelix.com.mk/mk/proizvodi/apple-iphone-14-pro-max-1tb\">\n",
              "<div class=\"border border-0 bg-white rounded px-3 pb-3 pt-1 row mx-0 align-items-center\">\n",
              "<div class=\"col-12 product-img-wrapper pt-3\">\n",
              "<img alt=\"Apple iPhone 14 Pro Max 1TB\" class=\"img-fluid mb-2 mb-xl-3\" src=\"https://mobelix.com.mk/storage/app/uploads/public/633/d75/4a8/thumb_4148_550_800_0_0_crop.png\"/>\n",
              "</div>\n",
              "<div class=\"col-12\">\n",
              "<h5 class=\"mb-0\">Apple</h5>\n",
              "<h3 class=\"h5 font-weight-normal\">iPhone 14 Pro Max 1TB</h3>\n",
              "<p class=\"h5 price\"><del class=\"mr-2 small\">116,900.00</del><br/>98,400.00 ден</p>\n",
              "<button class=\"btn btn-outline-primary\">Повеќе</button>\n",
              "</div>\n",
              "</div>\n",
              "<span class=\"badge badge-primary\">-16%</span>\n",
              "</a>\n",
              "</div>\n",
              "</div>\n",
              "<div class=\"tab-col col-6 col-md-4 my-3 product-wrapper d-flex text-center onsale wow fadeInUp\">\n",
              "<div class=\"p-2 rounded text-dark bg-white d-flex w-100\">\n",
              "<a class=\"d-flex w-100\" href=\"https://mobelix.com.mk/mk/proizvodi/apple-iphone-14-pro-128gb-e-sim\">\n",
              "<div class=\"border border-0 bg-white rounded px-3 pb-3 pt-1 row mx-0 align-items-center\">\n",
              "<div class=\"col-12 product-img-wrapper pt-3\">\n",
              "<img alt=\"Apple iPhone 14 Pro 128GB E-SIM\" class=\"img-fluid mb-2 mb-xl-3\" src=\"https://mobelix.com.mk/storage/app/uploads/public/63a/ac1/6cb/thumb_4318_550_800_0_0_crop.png\"/>\n",
              "</div>\n",
              "<div class=\"col-12\">\n",
              "<h5 class=\"mb-0\">Apple</h5>\n",
              "<h3 class=\"h5 font-weight-normal\">iPhone 14 Pro 128GB E-SIM</h3>\n",
              "<p class=\"h5 price\"><del class=\"mr-2 small\">58,500.00</del><br/>55,300.00 ден</p>\n",
              "<button class=\"btn btn-outline-primary\">Повеќе</button>\n",
              "</div>\n",
              "</div>\n",
              "<span class=\"badge badge-primary\">-5%</span>\n",
              "</a>\n",
              "</div>\n",
              "</div>\n",
              "<div class=\"tab-col col-6 col-md-4 my-3 product-wrapper d-flex text-center onsale wow fadeInUp\">\n",
              "<div class=\"p-2 rounded text-dark bg-white d-flex w-100\">\n",
              "<a class=\"d-flex w-100\" href=\"https://mobelix.com.mk/mk/proizvodi/apple-iphone-13-mini-256gb\">\n",
              "<div class=\"border border-0 bg-white rounded px-3 pb-3 pt-1 row mx-0 align-items-center\">\n",
              "<div class=\"col-12 product-img-wrapper pt-3\">\n",
              "<img alt=\"Apple iPhone 13 Mini 256GB\" class=\"img-fluid mb-2 mb-xl-3\" src=\"https://mobelix.com.mk/storage/app/uploads/public/63d/100/fa0/thumb_4365_550_800_0_0_crop.jpg\"/>\n",
              "</div>\n",
              "<div class=\"col-12\">\n",
              "<h5 class=\"mb-0\">Apple</h5>\n",
              "<h3 class=\"h5 font-weight-normal\">iPhone 13 Mini 256GB</h3>\n",
              "<p class=\"h5 price\"><del class=\"mr-2 small\">47,990.00</del><br/>46,800.00 ден</p>\n",
              "<button class=\"btn btn-outline-primary\">Повеќе</button>\n",
              "</div>\n",
              "</div>\n",
              "<span class=\"badge badge-primary\">-2%</span>\n",
              "</a>\n",
              "</div>\n",
              "</div>\n",
              "</div>\n",
              "<hr/>\n",
              "<nav>\n",
              "<ul class=\"pagination\">\n",
              "<li aria-disabled=\"true\" aria-label=\"pagination.previous\" class=\"page-item disabled\">\n",
              "<span aria-hidden=\"true\" class=\"page-link\">‹</span>\n",
              "</li>\n",
              "<li aria-current=\"page\" class=\"page-item active\"><span class=\"page-link\">1</span></li>\n",
              "<li class=\"page-item\"><a class=\"page-link\" href=\"https://mobelix.com.mk/mk/mobilni-telefoni?page=2\">2</a></li>\n",
              "<li class=\"page-item\"><a class=\"page-link\" href=\"https://mobelix.com.mk/mk/mobilni-telefoni?page=3\">3</a></li>\n",
              "<li class=\"page-item\"><a class=\"page-link\" href=\"https://mobelix.com.mk/mk/mobilni-telefoni?page=4\">4</a></li>\n",
              "<li class=\"page-item\"><a class=\"page-link\" href=\"https://mobelix.com.mk/mk/mobilni-telefoni?page=5\">5</a></li>\n",
              "<li class=\"page-item\"><a class=\"page-link\" href=\"https://mobelix.com.mk/mk/mobilni-telefoni?page=6\">6</a></li>\n",
              "<li class=\"page-item\"><a class=\"page-link\" href=\"https://mobelix.com.mk/mk/mobilni-telefoni?page=7\">7</a></li>\n",
              "<li class=\"page-item\"><a class=\"page-link\" href=\"https://mobelix.com.mk/mk/mobilni-telefoni?page=8\">8</a></li>\n",
              "<li aria-disabled=\"true\" class=\"page-item disabled\"><span class=\"page-link\">...</span></li>\n",
              "<li class=\"page-item\"><a class=\"page-link\" href=\"https://mobelix.com.mk/mk/mobilni-telefoni?page=21\">21</a></li>\n",
              "<li class=\"page-item\"><a class=\"page-link\" href=\"https://mobelix.com.mk/mk/mobilni-telefoni?page=22\">22</a></li>\n",
              "<li class=\"page-item\">\n",
              "<a aria-label=\"pagination.next\" class=\"page-link\" href=\"https://mobelix.com.mk/mk/mobilni-telefoni?page=2\" rel=\"next\">›</a>\n",
              "</li>\n",
              "</ul>\n",
              "</nav>\n",
              "</div>\n",
              "</div>\n",
              "</div>\n",
              "</section>\n",
              "<footer class=\"text-white\">\n",
              "<div class=\"footer-bg-img py-4 py-xl-5\" style=\"background-image: url('https://mobelix.com.mk/storage/app/media/about-us/about-bg.jpg')\">\n",
              "<div class=\"container\">\n",
              "<div class=\"img-wrapper position-relative text-center mb-md-4 pb-3\">\n",
              "<img class=\"footer-logo img-fluid\" src=\"https://mobelix.com.mk/themes/mobelix/assets/img/logo-white.svg\"/>\n",
              "<p class=\"text-center mb-0 mt-2\">Прва Премиум Мобилара</p>\n",
              "</div>\n",
              "<div class=\"row border-gold bg-dark-opacity py-3 py-md-5\">\n",
              "<div class=\"info-col col-md-4 py-2 py-lg-3 text-center footer-info\">\n",
              "<h5 class=\"h5 mb-2\">E-Mail</h5>\n",
              "<a class=\"white-link\" href=\"mailto:info@mobelix.com.mk\">info@mobelix.com.mk</a>\n",
              "</div>\n",
              "<div class=\"info-col col-md-4 py-2 py-lg-3 text-center footer-info\">\n",
              "<h5 class=\"h5 mb-2\">Телефон</h5>\n",
              "<a class=\"white-link\" href=\"tel:+389 70 676 777\">070 676 777</a>\n",
              "</div>\n",
              "<div class=\"info-col col-md-4 py-2 py-lg-3 text-center footer-info\">\n",
              "<h5 class=\"h5 mb-2\">Социјални Медиуми</h5>\n",
              "<p class=\"white-link mb-0\">Следете не - <a class=\"white-link\" href=\"https://www.facebook.com/mobelixpremiummobilara/\" target=\"_blank\"><i aria-hidden=\"true\" class=\"fa fa-facebook\"></i></a> <a class=\"white-link\" href=\"https://www.instagram.com/mobelix_premium_mobilara/?hl=en\" target=\"_blank\"><i aria-hidden=\"true\" class=\"fa fa-instagram\"></i></a></p>\n",
              "</div>\n",
              "</div>\n",
              "<div class=\"text-center position-relative mt-4\">\n",
              "<p class=\"h6 text-white font-weight-normal\">Ул. БОРИС ТРАЈКОВСКИ бр.1 локал 16 Скопје, Р. Македонија</p>\n",
              "</div>\n",
              "</div>\n",
              "</div>\n",
              "<iframe allowfullscreen=\"\" class=\"footer-map map-mobelix\" frameborder=\"0\" src=\"https://www.google.com/maps/embed?pb=!1m14!1m8!1m3!1d5931.395430663015!2d21.435329884896095!3d41.98529948892254!3m2!1i1024!2i768!4f13.1!3m3!1m2!1s0x0%3A0x0!2zNDHCsDU5JzA2LjYiTiAyMcKwMjYnMTcuOCJF!5e0!3m2!1sen!2smk!4v1544524662477\" style=\"border:0\" width=\"100%\"></iframe> <div class=\"bottom-bar-wrapper bg-dark\">\n",
              "<div class=\"container bottom-bar px-0\">\n",
              "<div class=\"d-md-flex justify-content-between small py-3\">\n",
              "<div class=\"mb-3 mb-md-0 text-center text-md-left\">\n",
              "<ul class=\"list-unstyled list-inline mb-0 mobile-block\">\n",
              "<li class=\"list-inline-item pb-1 pb-sm-0\">\n",
              "<a class=\"text-white\" href=\"https://mobelix.com.mk/mk/cookies\">Колачиња</a>\n",
              "</li>\n",
              "<li class=\"list-inline-item pb-1 pb-sm-0\">\n",
              "<a class=\"text-white\" href=\"https://mobelix.com.mk/mk/politika-na-privatnost\">Политика за приватност</a>\n",
              "</li>\n",
              "<li class=\"list-inline-item pb-1 pb-sm-0\">\n",
              "<a class=\"text-white\" href=\"https://mobelix.com.mk/mk/uslovi-na-koristenje\">Услови на користење</a>\n",
              "</li>\n",
              "</ul>\n",
              "</div>\n",
              "<div>\n",
              "<p class=\"mb-0 text-white text-center text-md-right\">Web Design - <a class=\"text-white font-weight-bold\" href=\"https://kara5.com\" target=\"_blank\">Kara5</a></p>\n",
              "</div>\n",
              "</div>\n",
              "</div>\n",
              "</div>\n",
              "</footer>\n",
              "<!-- Load Facebook SDK for JavaScript -->\n",
              "<div id=\"fb-root\"></div>\n",
              "<script>\n",
              "window.fbAsyncInit = function() {\n",
              "  FB.init({\n",
              "    xfbml            : true,\n",
              "    version          : 'v3.2'\n",
              "  });\n",
              "};\n",
              "\n",
              "(function(d, s, id) {\n",
              "  var js, fjs = d.getElementsByTagName(s)[0];\n",
              "  if (d.getElementById(id)) return;\n",
              "  js = d.createElement(s); js.id = id;\n",
              "  js.src = 'https://connect.facebook.net/en_US/sdk/xfbml.customerchat.js';\n",
              "  fjs.parentNode.insertBefore(js, fjs);\n",
              "}(document, 'script', 'facebook-jssdk'));</script>\n",
              "<!-- Your customer chat code -->\n",
              "<div attribution=\"install_email\" class=\"fb-customerchat\" logged_in_greeting=\"Повелете, како можеме да ви помогнеме?\" logged_out_greeting=\"Повелете, како можеме да ви помогнеме?\" page_id=\"719397841765443\" theme_color=\"#212121\">\n",
              "</div>\n",
              "<!-- Optional JavaScript -->\n",
              "<!-- jQuery first, then Popper.js, then Bootstrap JS -->\n",
              "<script src=\"https://code.jquery.com/jquery-3.3.1.min.js\"></script>\n",
              "<script crossorigin=\"anonymous\" integrity=\"sha384-ZMP7rVo3mIykV+2+9J3UJ46jBk0WLaUAdn689aCwoqbBJiSnjAK/l8WvCWPIPm49\" src=\"https://cdnjs.cloudflare.com/ajax/libs/popper.js/1.14.3/umd/popper.min.js\"></script>\n",
              "<script crossorigin=\"anonymous\" integrity=\"sha384-ChfqqxuZUCnJSK3+MXmPNIyE6ZbWh2IMqE241rYiqJxyMiZ6OW/JmZQ5stwEULTy\" src=\"https://stackpath.bootstrapcdn.com/bootstrap/4.1.3/js/bootstrap.min.js\"></script>\n",
              "<script src=\"https://mobelix.com.mk/themes/mobelix/assets/vendor/slick/slick.min.js\" type=\"text/javascript\"></script>\n",
              "<script src=\"https://mobelix.com.mk/themes/mobelix/assets/js/wow.min.js\"></script>\n",
              "<script src=\"https://mobelix.com.mk/themes/mobelix/assets/js/jquery.paroller.min.js\"></script>\n",
              "<script>\n",
              "        wow = new WOW(\n",
              "          {\n",
              "            boxClass: 'wow',\n",
              "            mobile: false,\n",
              "              }    \n",
              "        )\n",
              "        wow.init();\n",
              "        $(document).ready(function(){\n",
              "            $('header .input-search .input-group .form-control').click(function(){\n",
              "                $('header .input-search .input-group').addClass('active');\n",
              "            });\n",
              "        });\n",
              "    </script>\n",
              "<script>\n",
              "        $(document).ready(function($) {  \n",
              "        \t$('#preloader').fadeOut('slow',function(){$(this).remove();});\n",
              "        });\n",
              "        </script>\n",
              "<script src=\"/modules/system/assets/js/framework.js\"></script>\n",
              "<script src=\"/modules/system/assets/js/framework.extras.js\"></script>\n",
              "<link href=\"/modules/system/assets/css/framework.extras.css\" property=\"stylesheet\" rel=\"stylesheet\"/>\n",
              "<script>\n",
              "\n",
              "    $(function(){\n",
              "\n",
              "      // bind change event to select\n",
              "\n",
              "      $('#brandSelect, #categorySelect').on('change', function () {\n",
              "\n",
              "          var url = $(this).val(); // get selected value\n",
              "\n",
              "          if (url) { // require a URL\n",
              "\n",
              "              window.location = url; // redirect\n",
              "\n",
              "          }\n",
              "\n",
              "          return false;\n",
              "\n",
              "      });\n",
              "\n",
              "      $('#orderForm').on('change','input, select', function() {\n",
              "\n",
              "        $('#orderForm').submit();\n",
              "\n",
              "      });\n",
              "\n",
              "    });\n",
              "\n",
              "</script> </body>\n",
              "</html>"
            ]
          },
          "metadata": {},
          "execution_count": 437
        }
      ]
    },
    {
      "cell_type": "markdown",
      "metadata": {
        "id": "mqvuxiNJvOT8"
      },
      "source": [
        "# <font color='Orange'>Extracting data</font> (0.7 POINTS)"
      ]
    },
    {
      "cell_type": "markdown",
      "metadata": {
        "id": "gbdg1SjjvTmB"
      },
      "source": [
        "From the printed HTML code search for the data you need for building the dataset, by the classes that are given above in the html tags listed.\n",
        "\n"
      ]
    },
    {
      "cell_type": "markdown",
      "metadata": {
        "id": "rl9n1bepzUdy"
      },
      "source": [
        "**Try to select the first element from your attributes. Find out from the html code what part do you need.**"
      ]
    },
    {
      "cell_type": "code",
      "metadata": {
        "id": "z7JDG2pGvSTo",
        "colab": {
          "base_uri": "https://localhost:8080/",
          "height": 34
        },
        "outputId": "ee768fd3-384e-4fe2-858b-33640ac15cec"
      },
      "source": [
        "#add your code **PHONE BRANDS**\n",
        "phone_brands = mobelix_soup.select('h5.mb-0')\n",
        "phone_brands = [p.text for p in mobelix_soup.select('h5.mb-0')] #PRETVARANJE VO TEXT\n",
        "\n",
        "num_phoneBrands=len(phone_brands)\n",
        "HTML(phone_brands[6]) #testing"
      ],
      "execution_count": 438,
      "outputs": [
        {
          "output_type": "execute_result",
          "data": {
            "text/plain": [
              "<IPython.core.display.HTML object>"
            ],
            "text/html": [
              "Apple"
            ]
          },
          "metadata": {},
          "execution_count": 438
        }
      ]
    },
    {
      "cell_type": "markdown",
      "metadata": {
        "id": "XLlJNiHBwB_V"
      },
      "source": [
        "**Add as many codeboxes as you need for selecting all the html elements**"
      ]
    },
    {
      "cell_type": "code",
      "metadata": {
        "id": "7Akbhl7ww91O",
        "colab": {
          "base_uri": "https://localhost:8080/",
          "height": 34
        },
        "outputId": "2b1a8756-9ef0-42a7-edf8-024ba2ce5e50"
      },
      "source": [
        "#add your code **TYPES**\n",
        "phone_type = mobelix_soup.select('h3.h5.font-weight-normal')\n",
        "phone_type = [p.text for p in mobelix_soup.select('h3.h5.font-weight-normal')] #PRETVARANJE VO TEXT\n",
        "\n",
        "num_phoneTypes = len(phone_type)\n",
        "HTML(phone_type[6]) #testing"
      ],
      "execution_count": 439,
      "outputs": [
        {
          "output_type": "execute_result",
          "data": {
            "text/plain": [
              "<IPython.core.display.HTML object>"
            ],
            "text/html": [
              "iPhone 14 Pro Max 1TB"
            ]
          },
          "metadata": {},
          "execution_count": 439
        }
      ]
    },
    {
      "cell_type": "code",
      "source": [
        "from numpy.core.numeric import base_repr\n",
        "#add your code **PRICE**\n",
        "for mr_2 in mobelix_soup.select('.mr-2'):\n",
        "    mr_2.decompose() #REMOVE STARI PRECKRTANI CENI\n",
        "for br in mobelix_soup.select('br'):\n",
        "    br.decompose() #REMOVE BR\n",
        "\n",
        "phone_price = mobelix_soup.select('p.h5.price')\n",
        "phone_price = [p.text for p in mobelix_soup.select('p.h5.price')] #PRETVARANJE VO TEKST\n",
        "\n",
        "for i in range(0,num_phonePrices):\n",
        "  phone_price[i] = phone_price[i].replace(\",\",\"\")\n",
        "  phone_price[i] = phone_price[i].replace(\"ден\",\"\")\n",
        "  phone_price[i] = float(phone_price[i])\n",
        "\n",
        "num_phonePrices = len(phone_price)\n",
        "phone_price[6]"
      ],
      "metadata": {
        "colab": {
          "base_uri": "https://localhost:8080/"
        },
        "id": "jGRV0IDAic7s",
        "outputId": "6a1b4f0c-42cd-454d-c242-5698f28fbca8"
      },
      "execution_count": 440,
      "outputs": [
        {
          "output_type": "execute_result",
          "data": {
            "text/plain": [
              "98400.0"
            ]
          },
          "metadata": {},
          "execution_count": 440
        }
      ]
    },
    {
      "cell_type": "markdown",
      "metadata": {
        "id": "3FYrNwA2xRYi"
      },
      "source": [
        "**Create lists with the extracted data from the html elements that you selected**"
      ]
    },
    {
      "cell_type": "code",
      "metadata": {
        "id": "Dpn7STkFxVVq"
      },
      "source": [
        "#add your code\n",
        "phoneBrand_list = []\n",
        "phoneType_list = []\n",
        "phonePrice_list = []\n",
        "\n",
        "for i in range(0,num_phoneBrands):\n",
        "  phoneBrand_list.append(phone_brands[i])\n",
        "\n",
        "for i in range(0,num_phoneTypes):\n",
        "  phoneType_list.append(phone_type[i])\n",
        "\n",
        "for i in range(0,num_phonePrices):\n",
        "  phonePrice_list.append(phone_price[i])"
      ],
      "execution_count": 441,
      "outputs": []
    },
    {
      "cell_type": "markdown",
      "metadata": {
        "id": "owIxGxmHxFSF"
      },
      "source": [
        "**Print all lists that are containing the elements**"
      ]
    },
    {
      "cell_type": "code",
      "metadata": {
        "id": "Etep-NWrxP57",
        "colab": {
          "base_uri": "https://localhost:8080/"
        },
        "outputId": "4be6e281-4c4c-411f-ea29-5ffe9ebf7857"
      },
      "source": [
        "#add your code\n",
        "print(phoneBrand_list)\n",
        "print(phoneType_list)\n",
        "print(phonePrice_list)"
      ],
      "execution_count": 442,
      "outputs": [
        {
          "output_type": "stream",
          "name": "stdout",
          "text": [
            "['Blackberry', 'Samsung', 'Samsung', 'Apple', 'Apple', 'Apple', 'Apple', 'Apple', 'Apple']\n",
            "['Porsche Design P9981', 'Galaxy A03s 4/64GB', 'Galaxy A04s 3/32GB', 'iPhone 14 Pro Max 128GB E-SIM', 'iPhone 14 Pro 512GB', 'iPhone 14 Pro Max 512GB', 'iPhone 14 Pro Max 1TB', 'iPhone 14 Pro 128GB E-SIM', 'iPhone 13 Mini 256GB']\n",
            "[19000.0, 8300.0, 8300.0, 61500.0, 89200.0, 78100.0, 98400.0, 55300.0, 46800.0]\n"
          ]
        }
      ]
    },
    {
      "cell_type": "markdown",
      "metadata": {
        "id": "xrgwuG6CxtDM"
      },
      "source": [
        "**Check if all lists are the same size**"
      ]
    },
    {
      "cell_type": "code",
      "metadata": {
        "id": "mwkhPgtQx7E0",
        "colab": {
          "base_uri": "https://localhost:8080/"
        },
        "outputId": "0a3879c2-1556-4b82-8a52-6f6760c0e5c2"
      },
      "source": [
        "print(num_phoneBrands)\n",
        "print(num_phoneTypes)\n",
        "print(num_phonePrices)"
      ],
      "execution_count": 443,
      "outputs": [
        {
          "output_type": "stream",
          "name": "stdout",
          "text": [
            "9\n",
            "9\n",
            "9\n"
          ]
        }
      ]
    },
    {
      "cell_type": "markdown",
      "metadata": {
        "id": "lH_ppKn4yD5b"
      },
      "source": [
        "# <font color='Orange'>Create a Pandas DataFrame</font> (0.1 POINTS)\n"
      ]
    },
    {
      "cell_type": "markdown",
      "metadata": {
        "id": "tU3fJNVuyKTA"
      },
      "source": [
        "**Create the DataFrame from the lists you get and name your *Columns***"
      ]
    },
    {
      "cell_type": "code",
      "metadata": {
        "id": "bFURoHfTyJt2"
      },
      "source": [
        "#add your code\n",
        "phones_matrix = []\n",
        "for i in range(num_phoneTypes):\n",
        "  node = {}\n",
        "  node['Brand'] = phone_brands[i]\n",
        "  node['Type'] = phone_type[i]\n",
        "  node['Price'] = phone_price[i]\n",
        "  phones_matrix.append(node)\n",
        "\n",
        "phones_Dataframe = pd.DataFrame(phones_matrix)"
      ],
      "execution_count": 444,
      "outputs": []
    },
    {
      "cell_type": "code",
      "source": [
        "from google.colab import drive\n",
        "drive.mount('/content/drive')"
      ],
      "metadata": {
        "colab": {
          "base_uri": "https://localhost:8080/"
        },
        "id": "Jjb4LB5065MO",
        "outputId": "f573b269-1078-4abd-c359-db3aaac92661"
      },
      "execution_count": 445,
      "outputs": [
        {
          "output_type": "stream",
          "name": "stdout",
          "text": [
            "Drive already mounted at /content/drive; to attempt to forcibly remount, call drive.mount(\"/content/drive\", force_remount=True).\n"
          ]
        }
      ]
    },
    {
      "cell_type": "markdown",
      "metadata": {
        "id": "u9XJ3NE0yl9s"
      },
      "source": [
        "**Print the dataset you obtain**"
      ]
    },
    {
      "cell_type": "code",
      "metadata": {
        "id": "HGL5yi9fysOj",
        "colab": {
          "base_uri": "https://localhost:8080/",
          "height": 332
        },
        "outputId": "e7af98df-36b9-47f1-c7c6-7e8bff57f21f"
      },
      "source": [
        "#add your code\n",
        "phones_Dataframe.to_csv(\"/content/drive/My Drive/Colab Notebooks/MobelixPhones.csv\", index = False)\n",
        "phones_Dataframe"
      ],
      "execution_count": 446,
      "outputs": [
        {
          "output_type": "execute_result",
          "data": {
            "text/plain": [
              "        Brand                           Type    Price\n",
              "0  Blackberry           Porsche Design P9981  19000.0\n",
              "1     Samsung             Galaxy A03s 4/64GB   8300.0\n",
              "2     Samsung             Galaxy A04s 3/32GB   8300.0\n",
              "3       Apple  iPhone 14 Pro Max 128GB E-SIM  61500.0\n",
              "4       Apple            iPhone 14 Pro 512GB  89200.0\n",
              "5       Apple        iPhone 14 Pro Max 512GB  78100.0\n",
              "6       Apple          iPhone 14 Pro Max 1TB  98400.0\n",
              "7       Apple      iPhone 14 Pro 128GB E-SIM  55300.0\n",
              "8       Apple           iPhone 13 Mini 256GB  46800.0"
            ],
            "text/html": [
              "\n",
              "  <div id=\"df-1c89562f-c948-4214-a092-912c63f5b7cb\" class=\"colab-df-container\">\n",
              "    <div>\n",
              "<style scoped>\n",
              "    .dataframe tbody tr th:only-of-type {\n",
              "        vertical-align: middle;\n",
              "    }\n",
              "\n",
              "    .dataframe tbody tr th {\n",
              "        vertical-align: top;\n",
              "    }\n",
              "\n",
              "    .dataframe thead th {\n",
              "        text-align: right;\n",
              "    }\n",
              "</style>\n",
              "<table border=\"1\" class=\"dataframe\">\n",
              "  <thead>\n",
              "    <tr style=\"text-align: right;\">\n",
              "      <th></th>\n",
              "      <th>Brand</th>\n",
              "      <th>Type</th>\n",
              "      <th>Price</th>\n",
              "    </tr>\n",
              "  </thead>\n",
              "  <tbody>\n",
              "    <tr>\n",
              "      <th>0</th>\n",
              "      <td>Blackberry</td>\n",
              "      <td>Porsche Design P9981</td>\n",
              "      <td>19000.0</td>\n",
              "    </tr>\n",
              "    <tr>\n",
              "      <th>1</th>\n",
              "      <td>Samsung</td>\n",
              "      <td>Galaxy A03s 4/64GB</td>\n",
              "      <td>8300.0</td>\n",
              "    </tr>\n",
              "    <tr>\n",
              "      <th>2</th>\n",
              "      <td>Samsung</td>\n",
              "      <td>Galaxy A04s 3/32GB</td>\n",
              "      <td>8300.0</td>\n",
              "    </tr>\n",
              "    <tr>\n",
              "      <th>3</th>\n",
              "      <td>Apple</td>\n",
              "      <td>iPhone 14 Pro Max 128GB E-SIM</td>\n",
              "      <td>61500.0</td>\n",
              "    </tr>\n",
              "    <tr>\n",
              "      <th>4</th>\n",
              "      <td>Apple</td>\n",
              "      <td>iPhone 14 Pro 512GB</td>\n",
              "      <td>89200.0</td>\n",
              "    </tr>\n",
              "    <tr>\n",
              "      <th>5</th>\n",
              "      <td>Apple</td>\n",
              "      <td>iPhone 14 Pro Max 512GB</td>\n",
              "      <td>78100.0</td>\n",
              "    </tr>\n",
              "    <tr>\n",
              "      <th>6</th>\n",
              "      <td>Apple</td>\n",
              "      <td>iPhone 14 Pro Max 1TB</td>\n",
              "      <td>98400.0</td>\n",
              "    </tr>\n",
              "    <tr>\n",
              "      <th>7</th>\n",
              "      <td>Apple</td>\n",
              "      <td>iPhone 14 Pro 128GB E-SIM</td>\n",
              "      <td>55300.0</td>\n",
              "    </tr>\n",
              "    <tr>\n",
              "      <th>8</th>\n",
              "      <td>Apple</td>\n",
              "      <td>iPhone 13 Mini 256GB</td>\n",
              "      <td>46800.0</td>\n",
              "    </tr>\n",
              "  </tbody>\n",
              "</table>\n",
              "</div>\n",
              "    <div class=\"colab-df-buttons\">\n",
              "\n",
              "  <div class=\"colab-df-container\">\n",
              "    <button class=\"colab-df-convert\" onclick=\"convertToInteractive('df-1c89562f-c948-4214-a092-912c63f5b7cb')\"\n",
              "            title=\"Convert this dataframe to an interactive table.\"\n",
              "            style=\"display:none;\">\n",
              "\n",
              "  <svg xmlns=\"http://www.w3.org/2000/svg\" height=\"24px\" viewBox=\"0 -960 960 960\">\n",
              "    <path d=\"M120-120v-720h720v720H120Zm60-500h600v-160H180v160Zm220 220h160v-160H400v160Zm0 220h160v-160H400v160ZM180-400h160v-160H180v160Zm440 0h160v-160H620v160ZM180-180h160v-160H180v160Zm440 0h160v-160H620v160Z\"/>\n",
              "  </svg>\n",
              "    </button>\n",
              "\n",
              "  <style>\n",
              "    .colab-df-container {\n",
              "      display:flex;\n",
              "      gap: 12px;\n",
              "    }\n",
              "\n",
              "    .colab-df-convert {\n",
              "      background-color: #E8F0FE;\n",
              "      border: none;\n",
              "      border-radius: 50%;\n",
              "      cursor: pointer;\n",
              "      display: none;\n",
              "      fill: #1967D2;\n",
              "      height: 32px;\n",
              "      padding: 0 0 0 0;\n",
              "      width: 32px;\n",
              "    }\n",
              "\n",
              "    .colab-df-convert:hover {\n",
              "      background-color: #E2EBFA;\n",
              "      box-shadow: 0px 1px 2px rgba(60, 64, 67, 0.3), 0px 1px 3px 1px rgba(60, 64, 67, 0.15);\n",
              "      fill: #174EA6;\n",
              "    }\n",
              "\n",
              "    .colab-df-buttons div {\n",
              "      margin-bottom: 4px;\n",
              "    }\n",
              "\n",
              "    [theme=dark] .colab-df-convert {\n",
              "      background-color: #3B4455;\n",
              "      fill: #D2E3FC;\n",
              "    }\n",
              "\n",
              "    [theme=dark] .colab-df-convert:hover {\n",
              "      background-color: #434B5C;\n",
              "      box-shadow: 0px 1px 3px 1px rgba(0, 0, 0, 0.15);\n",
              "      filter: drop-shadow(0px 1px 2px rgba(0, 0, 0, 0.3));\n",
              "      fill: #FFFFFF;\n",
              "    }\n",
              "  </style>\n",
              "\n",
              "    <script>\n",
              "      const buttonEl =\n",
              "        document.querySelector('#df-1c89562f-c948-4214-a092-912c63f5b7cb button.colab-df-convert');\n",
              "      buttonEl.style.display =\n",
              "        google.colab.kernel.accessAllowed ? 'block' : 'none';\n",
              "\n",
              "      async function convertToInteractive(key) {\n",
              "        const element = document.querySelector('#df-1c89562f-c948-4214-a092-912c63f5b7cb');\n",
              "        const dataTable =\n",
              "          await google.colab.kernel.invokeFunction('convertToInteractive',\n",
              "                                                    [key], {});\n",
              "        if (!dataTable) return;\n",
              "\n",
              "        const docLinkHtml = 'Like what you see? Visit the ' +\n",
              "          '<a target=\"_blank\" href=https://colab.research.google.com/notebooks/data_table.ipynb>data table notebook</a>'\n",
              "          + ' to learn more about interactive tables.';\n",
              "        element.innerHTML = '';\n",
              "        dataTable['output_type'] = 'display_data';\n",
              "        await google.colab.output.renderOutput(dataTable, element);\n",
              "        const docLink = document.createElement('div');\n",
              "        docLink.innerHTML = docLinkHtml;\n",
              "        element.appendChild(docLink);\n",
              "      }\n",
              "    </script>\n",
              "  </div>\n",
              "\n",
              "\n",
              "<div id=\"df-3e527b78-99cc-4d09-8544-14ec6ecd7a94\">\n",
              "  <button class=\"colab-df-quickchart\" onclick=\"quickchart('df-3e527b78-99cc-4d09-8544-14ec6ecd7a94')\"\n",
              "            title=\"Suggest charts.\"\n",
              "            style=\"display:none;\">\n",
              "\n",
              "<svg xmlns=\"http://www.w3.org/2000/svg\" height=\"24px\"viewBox=\"0 0 24 24\"\n",
              "     width=\"24px\">\n",
              "    <g>\n",
              "        <path d=\"M19 3H5c-1.1 0-2 .9-2 2v14c0 1.1.9 2 2 2h14c1.1 0 2-.9 2-2V5c0-1.1-.9-2-2-2zM9 17H7v-7h2v7zm4 0h-2V7h2v10zm4 0h-2v-4h2v4z\"/>\n",
              "    </g>\n",
              "</svg>\n",
              "  </button>\n",
              "\n",
              "<style>\n",
              "  .colab-df-quickchart {\n",
              "      --bg-color: #E8F0FE;\n",
              "      --fill-color: #1967D2;\n",
              "      --hover-bg-color: #E2EBFA;\n",
              "      --hover-fill-color: #174EA6;\n",
              "      --disabled-fill-color: #AAA;\n",
              "      --disabled-bg-color: #DDD;\n",
              "  }\n",
              "\n",
              "  [theme=dark] .colab-df-quickchart {\n",
              "      --bg-color: #3B4455;\n",
              "      --fill-color: #D2E3FC;\n",
              "      --hover-bg-color: #434B5C;\n",
              "      --hover-fill-color: #FFFFFF;\n",
              "      --disabled-bg-color: #3B4455;\n",
              "      --disabled-fill-color: #666;\n",
              "  }\n",
              "\n",
              "  .colab-df-quickchart {\n",
              "    background-color: var(--bg-color);\n",
              "    border: none;\n",
              "    border-radius: 50%;\n",
              "    cursor: pointer;\n",
              "    display: none;\n",
              "    fill: var(--fill-color);\n",
              "    height: 32px;\n",
              "    padding: 0;\n",
              "    width: 32px;\n",
              "  }\n",
              "\n",
              "  .colab-df-quickchart:hover {\n",
              "    background-color: var(--hover-bg-color);\n",
              "    box-shadow: 0 1px 2px rgba(60, 64, 67, 0.3), 0 1px 3px 1px rgba(60, 64, 67, 0.15);\n",
              "    fill: var(--button-hover-fill-color);\n",
              "  }\n",
              "\n",
              "  .colab-df-quickchart-complete:disabled,\n",
              "  .colab-df-quickchart-complete:disabled:hover {\n",
              "    background-color: var(--disabled-bg-color);\n",
              "    fill: var(--disabled-fill-color);\n",
              "    box-shadow: none;\n",
              "  }\n",
              "\n",
              "  .colab-df-spinner {\n",
              "    border: 2px solid var(--fill-color);\n",
              "    border-color: transparent;\n",
              "    border-bottom-color: var(--fill-color);\n",
              "    animation:\n",
              "      spin 1s steps(1) infinite;\n",
              "  }\n",
              "\n",
              "  @keyframes spin {\n",
              "    0% {\n",
              "      border-color: transparent;\n",
              "      border-bottom-color: var(--fill-color);\n",
              "      border-left-color: var(--fill-color);\n",
              "    }\n",
              "    20% {\n",
              "      border-color: transparent;\n",
              "      border-left-color: var(--fill-color);\n",
              "      border-top-color: var(--fill-color);\n",
              "    }\n",
              "    30% {\n",
              "      border-color: transparent;\n",
              "      border-left-color: var(--fill-color);\n",
              "      border-top-color: var(--fill-color);\n",
              "      border-right-color: var(--fill-color);\n",
              "    }\n",
              "    40% {\n",
              "      border-color: transparent;\n",
              "      border-right-color: var(--fill-color);\n",
              "      border-top-color: var(--fill-color);\n",
              "    }\n",
              "    60% {\n",
              "      border-color: transparent;\n",
              "      border-right-color: var(--fill-color);\n",
              "    }\n",
              "    80% {\n",
              "      border-color: transparent;\n",
              "      border-right-color: var(--fill-color);\n",
              "      border-bottom-color: var(--fill-color);\n",
              "    }\n",
              "    90% {\n",
              "      border-color: transparent;\n",
              "      border-bottom-color: var(--fill-color);\n",
              "    }\n",
              "  }\n",
              "</style>\n",
              "\n",
              "  <script>\n",
              "    async function quickchart(key) {\n",
              "      const quickchartButtonEl =\n",
              "        document.querySelector('#' + key + ' button');\n",
              "      quickchartButtonEl.disabled = true;  // To prevent multiple clicks.\n",
              "      quickchartButtonEl.classList.add('colab-df-spinner');\n",
              "      try {\n",
              "        const charts = await google.colab.kernel.invokeFunction(\n",
              "            'suggestCharts', [key], {});\n",
              "      } catch (error) {\n",
              "        console.error('Error during call to suggestCharts:', error);\n",
              "      }\n",
              "      quickchartButtonEl.classList.remove('colab-df-spinner');\n",
              "      quickchartButtonEl.classList.add('colab-df-quickchart-complete');\n",
              "    }\n",
              "    (() => {\n",
              "      let quickchartButtonEl =\n",
              "        document.querySelector('#df-3e527b78-99cc-4d09-8544-14ec6ecd7a94 button');\n",
              "      quickchartButtonEl.style.display =\n",
              "        google.colab.kernel.accessAllowed ? 'block' : 'none';\n",
              "    })();\n",
              "  </script>\n",
              "</div>\n",
              "    </div>\n",
              "  </div>\n"
            ]
          },
          "metadata": {},
          "execution_count": 446
        }
      ]
    },
    {
      "cell_type": "markdown",
      "source": [
        "#<font color='orange'>EDA</font> (0.2 POINTS)"
      ],
      "metadata": {
        "id": "8u9H31SUXq-6"
      }
    },
    {
      "cell_type": "markdown",
      "source": [
        "## <font color='Orange'>Find statistic elements for the prices</font>\n",
        "Like mean, median,  standard deviation, minimum, maximum"
      ],
      "metadata": {
        "id": "8n4VKGleX1pd"
      }
    },
    {
      "cell_type": "code",
      "source": [
        "phones_Dataframe.mean()"
      ],
      "metadata": {
        "colab": {
          "base_uri": "https://localhost:8080/"
        },
        "id": "EBKn3hqYIHOa",
        "outputId": "f27417ba-ba17-4091-f5d3-f5c07f8114cb"
      },
      "execution_count": 447,
      "outputs": [
        {
          "output_type": "execute_result",
          "data": {
            "text/plain": [
              "Price    51655.555556\n",
              "dtype: float64"
            ]
          },
          "metadata": {},
          "execution_count": 447
        }
      ]
    },
    {
      "cell_type": "code",
      "source": [
        "phones_Dataframe.median()"
      ],
      "metadata": {
        "colab": {
          "base_uri": "https://localhost:8080/"
        },
        "id": "ClTU9FMlH6GP",
        "outputId": "6463f166-342c-49c7-e337-71cc60c248ec"
      },
      "execution_count": 448,
      "outputs": [
        {
          "output_type": "execute_result",
          "data": {
            "text/plain": [
              "Price    55300.0\n",
              "dtype: float64"
            ]
          },
          "metadata": {},
          "execution_count": 448
        }
      ]
    },
    {
      "cell_type": "code",
      "source": [
        "phones_Dataframe.std()"
      ],
      "metadata": {
        "colab": {
          "base_uri": "https://localhost:8080/"
        },
        "id": "L0Uo20_pIGCe",
        "outputId": "00b8b057-3e0b-457c-b6d7-29a831b4ffba"
      },
      "execution_count": 449,
      "outputs": [
        {
          "output_type": "execute_result",
          "data": {
            "text/plain": [
              "Price    34010.112875\n",
              "dtype: float64"
            ]
          },
          "metadata": {},
          "execution_count": 449
        }
      ]
    },
    {
      "cell_type": "code",
      "source": [
        "phones_Dataframe.min()"
      ],
      "metadata": {
        "id": "UFC5emuNXta7",
        "colab": {
          "base_uri": "https://localhost:8080/"
        },
        "outputId": "bdb0f006-ab10-46ec-b5fd-224ee0fe058b"
      },
      "execution_count": 450,
      "outputs": [
        {
          "output_type": "execute_result",
          "data": {
            "text/plain": [
              "Brand                 Apple\n",
              "Type     Galaxy A03s 4/64GB\n",
              "Price                8300.0\n",
              "dtype: object"
            ]
          },
          "metadata": {},
          "execution_count": 450
        }
      ]
    },
    {
      "cell_type": "code",
      "source": [
        "phones_Dataframe.max()"
      ],
      "metadata": {
        "colab": {
          "base_uri": "https://localhost:8080/"
        },
        "id": "CSWLt38JHtjN",
        "outputId": "a0e48897-3bf3-4a1d-e04a-cd84641af64f"
      },
      "execution_count": 451,
      "outputs": [
        {
          "output_type": "execute_result",
          "data": {
            "text/plain": [
              "Brand                    Samsung\n",
              "Type     iPhone 14 Pro Max 512GB\n",
              "Price                    98400.0\n",
              "dtype: object"
            ]
          },
          "metadata": {},
          "execution_count": 451
        }
      ]
    },
    {
      "cell_type": "markdown",
      "source": [
        "# <font color = 'Orange'>Data visualization </font> (0.3 POINTS)"
      ],
      "metadata": {
        "id": "KOAnAw20X7yP"
      }
    },
    {
      "cell_type": "markdown",
      "source": [
        "Make a histogram & bar chart for the price values"
      ],
      "metadata": {
        "id": "4CuvYjAJYBXw"
      }
    },
    {
      "cell_type": "code",
      "source": [
        "#add your code\n",
        "phones_Dataframe.hist()"
      ],
      "metadata": {
        "id": "4dhjqmPEX_eP",
        "colab": {
          "base_uri": "https://localhost:8080/",
          "height": 469
        },
        "outputId": "32c0d579-00e7-4fc5-e432-6b8e9bac1ead"
      },
      "execution_count": 452,
      "outputs": [
        {
          "output_type": "execute_result",
          "data": {
            "text/plain": [
              "array([[<Axes: title={'center': 'Price'}>]], dtype=object)"
            ]
          },
          "metadata": {},
          "execution_count": 452
        },
        {
          "output_type": "display_data",
          "data": {
            "text/plain": [
              "<Figure size 640x480 with 1 Axes>"
            ],
            "image/png": "[encoded data removed]"
          },
          "metadata": {}
        }
      ]
    },
    {
      "cell_type": "code",
      "source": [
        "fig = plt.figure()\n",
        "phones_Dataframe.plot.bar(rot=0,figsize=(50,5))\n",
        "fig.show()"
      ],
      "metadata": {
        "colab": {
          "base_uri": "https://localhost:8080/",
          "height": 143
        },
        "id": "VzU-ilUwJlw2",
        "outputId": "032a5a96-0e30-4d5c-ad89-ade5b7b939dc"
      },
      "execution_count": 453,
      "outputs": [
        {
          "output_type": "display_data",
          "data": {
            "text/plain": [
              "<Figure size 640x480 with 0 Axes>"
            ]
          },
          "metadata": {}
        },
        {
          "output_type": "display_data",
          "data": {
            "text/plain": [
              "<Figure size 5000x500 with 1 Axes>"
            ],
            "image/png": "[encoded data removed]"
          },
          "metadata": {}
        }
      ]
    }
  ]
}